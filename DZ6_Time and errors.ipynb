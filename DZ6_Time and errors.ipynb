{
 "cells": [
  {
   "cell_type": "code",
   "execution_count": null,
   "metadata": {},
   "outputs": [],
   "source": [
    "from datetime import datetime, timedelta, date\n"
   ]
  },
  {
   "cell_type": "code",
   "execution_count": null,
   "metadata": {},
   "outputs": [],
   "source": [
    "# Exercise 1\n",
    "#The Moscow Times - Wednesday, October 2, 2002\n",
    "\n",
    "Moscow_Times_datetime = datetime.strptime('Wednesday, October 2, 2002', '%A, %B %d, %Y')\n",
    "Moscow_Times_datetime"
   ]
  },
  {
   "cell_type": "code",
   "execution_count": null,
   "metadata": {},
   "outputs": [],
   "source": [
    "Moscow_Times_datetime.strftime('%A, %B %d, %Y')"
   ]
  },
  {
   "cell_type": "code",
   "execution_count": null,
   "metadata": {},
   "outputs": [],
   "source": [
    "# Exersice 1\n",
    "#The Guardian - Friday, 11.10.13\n",
    "\n",
    "Guardian_datetime = datetime.strptime('Friday, 11.10.13', '%A, %d.%m.%y')\n",
    "Guardian_datetime"
   ]
  },
  {
   "cell_type": "code",
   "execution_count": null,
   "metadata": {},
   "outputs": [],
   "source": [
    "Guardian_datetime.strftime('%A, %d.%m.%y')"
   ]
  },
  {
   "cell_type": "code",
   "execution_count": null,
   "metadata": {},
   "outputs": [],
   "source": [
    "#Exercise 1\n",
    "#Daily News - Thursday, 18 August 1977\n",
    "\n",
    "Daily_News_datetime = datetime.strptime('Thursday, 18 August 1977', '%A, %d %B %Y')\n",
    "Daily_News_datetime"
   ]
  },
  {
   "cell_type": "code",
   "execution_count": null,
   "metadata": {},
   "outputs": [],
   "source": [
    "Daily_News_datetime.strftime('%A, %d %B %Y')"
   ]
  },
  {
   "cell_type": "code",
   "execution_count": null,
   "metadata": {},
   "outputs": [],
   "source": [
    "#Separator line between exercises"
   ]
  },
  {
   "cell_type": "code",
   "execution_count": null,
   "metadata": {},
   "outputs": [],
   "source": [
    "#Exercise 2"
   ]
  },
  {
   "cell_type": "code",
   "execution_count": null,
   "metadata": {},
   "outputs": [],
   "source": [
    "stream = ['2018-04-02', '2018-02-29', '2018-19-02']"
   ]
  },
  {
   "cell_type": "code",
   "execution_count": null,
   "metadata": {},
   "outputs": [],
   "source": [
    "def cheking_date(stream):\n",
    "    for date in stream:\n",
    "        try:\n",
    "            date_datetime = datetime.fromisoformat(date)\n",
    "            print('Correct date: {}'.format(date))\n",
    "        except:\n",
    "            print('Wrong date: {}'.format(date))\n",
    "\n",
    "    print('Data checked')"
   ]
  },
  {
   "cell_type": "code",
   "execution_count": null,
   "metadata": {},
   "outputs": [],
   "source": [
    "cheking_date(stream)"
   ]
  },
  {
   "cell_type": "code",
   "execution_count": null,
   "metadata": {},
   "outputs": [],
   "source": [
    "#Separator line between exercises"
   ]
  },
  {
   "cell_type": "code",
   "execution_count": null,
   "metadata": {},
   "outputs": [],
   "source": [
    "#Exercise 3"
   ]
  },
  {
   "cell_type": "code",
   "execution_count": null,
   "metadata": {},
   "outputs": [],
   "source": [
    "def list_of_dates_function():\n",
    "    list_of_dates = []\n",
    "\n",
    "    print('Please, input start date in format YYYY-MM-DD')\n",
    "    start_date = input()\n",
    "\n",
    "    print('Please, input end date in format YYYY-MM-DD')\n",
    "    end_date = input()\n",
    "\n",
    "    if start_date > end_date:\n",
    "        print(\"Wrong sequence of dates\")\n",
    "        print(list_of_dates)\n",
    "\n",
    "    try:\n",
    "        datetime_start_date = datetime.fromisoformat(start_date)\n",
    "        datetime_end_date = datetime.fromisoformat(end_date)\n",
    "\n",
    "        while datetime_start_date <= datetime_end_date:\n",
    "            date_start = datetime.date(datetime_start_date)\n",
    "            print(date_start)\n",
    "            datetime_start_date += timedelta(days=1)\n",
    "\n",
    "    except:\n",
    "        print(\"Wrong format of dates\")\n",
    "        print(list_of_dates)"
   ]
  },
  {
   "cell_type": "code",
   "execution_count": null,
   "metadata": {},
   "outputs": [],
   "source": [
    "list_of_dates_function()"
   ]
  },
  {
   "cell_type": "code",
   "execution_count": null,
   "metadata": {},
   "outputs": [],
   "source": []
  }
 ],
 "metadata": {
  "kernelspec": {
   "display_name": "Python 3",
   "language": "python",
   "name": "python3"
  },
  "language_info": {
   "codemirror_mode": {
    "name": "ipython",
    "version": 3
   },
   "file_extension": ".py",
   "mimetype": "text/x-python",
   "name": "python",
   "nbconvert_exporter": "python",
   "pygments_lexer": "ipython3",
   "version": "3.8.3"
  }
 },
 "nbformat": 4,
 "nbformat_minor": 2
}
